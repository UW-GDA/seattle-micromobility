{
 "cells": [
  {
   "cell_type": "markdown",
   "id": "c8a89c8b-3d23-4daa-8df3-c04678c106d4",
   "metadata": {},
   "source": [
    "## **Merging DTM Raster Tiles**\n",
    "\n",
    "- The dataset consists of **multiple raster tiles** for King County.\n",
    "- We use **GDAL's `gdal_merge.py` tool** to **merge** them into a single DTM file.\n",
    "\n",
    "### **Steps**\n",
    "1. Load all **TIFF files** (DTM tiles).\n",
    "2. Merge them into **one raster** with **LZW compression**.\n",
    "3. Enable **BIGTIFF support** for large files."
   ]
  },
  {
   "cell_type": "code",
   "execution_count": 14,
   "id": "81aa0a46-c62d-4687-8909-e11f8a838585",
   "metadata": {},
   "outputs": [
    {
     "name": "stdout",
     "output_type": "stream",
     "text": [
      "total 3.1G\n",
      "-rw-r--r-- 1 jovyan users 701M Feb 27 23:44 king_county_2016_dtm_52.tif\n",
      "-rw-r--r-- 1 jovyan users 696M Feb 27 23:45 king_county_2016_dtm_53.tif\n",
      "-rw-r--r-- 1 jovyan users 173M Feb 27 23:45 king_county_2016_dtm_54.tif\n",
      "-rw-r--r-- 1 jovyan users 650M Feb 27 23:41 king_county_2016_dtm_65.tif\n",
      "-rw-r--r-- 1 jovyan users 721M Feb 27 23:42 king_county_2016_dtm_66.tif\n",
      "-rw-r--r-- 1 jovyan users 191M Feb 27 23:41 king_county_2016_dtm_67.tif\n"
     ]
    }
   ],
   "source": [
    "!ls -lh ../data/raw/proj_raster_data/"
   ]
  },
  {
   "cell_type": "code",
   "execution_count": 15,
   "id": "51b31349-7822-4075-9a88-10b2f6687348",
   "metadata": {},
   "outputs": [
    {
     "name": "stdout",
     "output_type": "stream",
     "text": [
      "✅ Found 6 files, merging...\n",
      "0...10...20...30...40...50...60...70...80...90...100 - done.\n"
     ]
    }
   ],
   "source": [
    "import glob\n",
    "import subprocess\n",
    "\n",
    "# Get the list of all TIFF files\n",
    "tif_files = sorted(glob.glob(\"../data/raw/proj_raster_data/*.tif\"))\n",
    "\n",
    "# Check if files are found\n",
    "if not tif_files:\n",
    "    print(\"❌ No TIFF files found! Check the directory path.\")\n",
    "else:\n",
    "    print(f\"✅ Found {len(tif_files)} files, merging...\")\n",
    "\n",
    "    # Merge using GDAL with BigTIFF support\n",
    "    cmd = [\n",
    "        \"gdal_merge.py\",\n",
    "        \"-o\", \"../data/raw/king_county_2016_merged.tif\",\n",
    "        \"-n\", \"0\", \"-a_nodata\", \"0\",\n",
    "        \"-co\", \"COMPRESS=LZW\",\n",
    "        \"-co\", \"BIGTIFF=YES\"\n",
    "    ] + tif_files  # Append the file list instead of using wildcard\n",
    "\n",
    "    # Run the command\n",
    "    subprocess.run(cmd, check=True)"
   ]
  },
  {
   "cell_type": "markdown",
   "id": "fe710883-1013-4112-8024-d94d5d2707d5",
   "metadata": {},
   "source": [
    "## **Checking the Coordinate Reference System (CRS)**\n",
    "\n",
    "- **Seattle boundary data** and the **DTM raster** must have the **same CRS** for proper spatial alignment.\n",
    "- The **Seattle dataset CRS is EPSG:4326**, but **DTM uses EPSG:2927**."
   ]
  },
  {
   "cell_type": "code",
   "execution_count": 9,
   "id": "58ac9908-db5e-45ca-bba9-5d9b2cb399fc",
   "metadata": {},
   "outputs": [],
   "source": [
    "import geopandas as gpd\n",
    "\n",
    "# Load Seattle geometry\n",
    "seattle_gdf = gpd.read_file('https://raw.githubusercontent.com/seattleflu/seattle-geojson/master/seattle_geojsons/2016_seattle_city.geojson')"
   ]
  },
  {
   "cell_type": "code",
   "execution_count": 17,
   "id": "cd43dbc0-7123-4f33-a931-5ba962ab7968",
   "metadata": {},
   "outputs": [
    {
     "data": {
      "text/plain": [
       "<Geographic 2D CRS: EPSG:4326>\n",
       "Name: WGS 84\n",
       "Axis Info [ellipsoidal]:\n",
       "- Lat[north]: Geodetic latitude (degree)\n",
       "- Lon[east]: Geodetic longitude (degree)\n",
       "Area of Use:\n",
       "- name: World.\n",
       "- bounds: (-180.0, -90.0, 180.0, 90.0)\n",
       "Datum: World Geodetic System 1984 ensemble\n",
       "- Ellipsoid: WGS 84\n",
       "- Prime Meridian: Greenwich"
      ]
     },
     "execution_count": 17,
     "metadata": {},
     "output_type": "execute_result"
    }
   ],
   "source": [
    "seattle_gdf.crs"
   ]
  },
  {
   "cell_type": "code",
   "execution_count": 7,
   "id": "7e05b696-371a-482d-a6c3-bacb65c77198",
   "metadata": {},
   "outputs": [
    {
     "name": "stdout",
     "output_type": "stream",
     "text": [
      "DTM CRS: PROJCS[\"NAD83(HARN) / Washington South (ftUS)\",GEOGCS[\"NAD83(HARN)\",DATUM[\"NAD83_High_Accuracy_Reference_Network\",SPHEROID[\"GRS 1980\",6378137,298.257222101004,AUTHORITY[\"EPSG\",\"7019\"]],AUTHORITY[\"EPSG\",\"6152\"]],PRIMEM[\"Greenwich\",0],UNIT[\"degree\",0.0174532925199433,AUTHORITY[\"EPSG\",\"9122\"]]],PROJECTION[\"Lambert_Conformal_Conic_2SP\"],PARAMETER[\"latitude_of_origin\",45.3333333333333],PARAMETER[\"central_meridian\",-120.5],PARAMETER[\"standard_parallel_1\",45.8333333333333],PARAMETER[\"standard_parallel_2\",47.3333333333333],PARAMETER[\"false_easting\",1640416.66666667],PARAMETER[\"false_northing\",0],UNIT[\"US survey foot\",0.304800609601219,AUTHORITY[\"EPSG\",\"9003\"]],AXIS[\"Easting\",EAST],AXIS[\"Northing\",NORTH]]\n"
     ]
    }
   ],
   "source": [
    "import rasterio\n",
    "\n",
    "# Use the correct file path\n",
    "dtm_path = \"/home/jovyan/seattle-micromobility/data/raw/king_county_2016_merged.tif\"\n",
    "\n",
    "# Open the raster and check CRS\n",
    "with rasterio.open(dtm_path) as src:\n",
    "    print(\"DTM CRS:\", src.crs)"
   ]
  },
  {
   "cell_type": "markdown",
   "id": "7a89798e-4ce3-4bf3-a878-3044ef91945d",
   "metadata": {},
   "source": [
    "## **Reprojecting Seattle Boundary to Match DTM CRS**\n",
    "\n",
    "- Since **Seattle's CRS (EPSG:4326)** is different from the **DTM CRS (EPSG:2927)**, we **convert it**.\n",
    "- This ensures **correct spatial overlay** when clipping the raster."
   ]
  },
  {
   "cell_type": "code",
   "execution_count": 10,
   "id": "61b1185a-8d13-4231-9b7f-fef121a4d21d",
   "metadata": {},
   "outputs": [],
   "source": [
    "# Ensure Seattle boundary CRS matches the raster CRS\n",
    "with rasterio.open(dtm_path) as src:\n",
    "    dtm_crs = src.crs  # Get CRS of DTM raster\n",
    "\n",
    "seattle_gdf = seattle_gdf.to_crs(dtm_crs)  # Convert boundary CRS to match raster"
   ]
  },
  {
   "cell_type": "markdown",
   "id": "1d061351-6eaa-4f32-a52d-e01564dd07b1",
   "metadata": {},
   "source": [
    "## **Clipping the DTM to Seattle Boundary**\n",
    "\n",
    "- The **original DTM covers a larger area**, but we **only need Seattle**.\n",
    "- We use **raster masking** to extract **only the Seattle area**."
   ]
  },
  {
   "cell_type": "code",
   "execution_count": 5,
   "id": "bc32cccd-db8e-445c-88fc-555c7f2b01cb",
   "metadata": {},
   "outputs": [
    {
     "name": "stdout",
     "output_type": "stream",
     "text": [
      "✅ Clipping complete! Clipped DTM saved as: '/home/jovyan/seattle-micromobility/data/processed/seattle_dtm_clipped.tif'\n"
     ]
    }
   ],
   "source": [
    "import rasterio\n",
    "from rasterio.mask import mask\n",
    "import geopandas as gpd\n",
    "\n",
    "# File paths\n",
    "\n",
    "clipped_dtm_path = \"/home/jovyan/seattle-micromobility/data/processed/seattle_dtm_clipped.tif\"\n",
    "\n",
    "# Open the raster and clip using the Seattle boundary\n",
    "with rasterio.open(dtm_path) as src:\n",
    "    out_image, out_transform = mask(src, seattle_gdf.geometry, crop=True)\n",
    "    out_meta = src.meta.copy()\n",
    "    out_meta.update({\n",
    "        \"height\": out_image.shape[1],\n",
    "        \"width\": out_image.shape[2],\n",
    "        \"transform\": out_transform\n",
    "    })\n",
    "\n",
    "# Save the clipped raster\n",
    "with rasterio.open(clipped_dtm_path, \"w\", **out_meta) as dest:\n",
    "    dest.write(out_image)\n",
    "\n",
    "print(f\"✅ Clipping complete! Clipped DTM saved as: '{clipped_dtm_path}'\")"
   ]
  },
  {
   "cell_type": "markdown",
   "id": "33cea413-0f81-4d7d-a574-ab9777fed1a7",
   "metadata": {},
   "source": [
    "## **Converting Elevation to Meters**\n",
    "\n",
    "- The original DTM uses **feet**, but slope calculations require **meters**.\n",
    "- We **convert elevation from feet to meters**."
   ]
  },
  {
   "cell_type": "code",
   "execution_count": 10,
   "id": "3d8dafcf-35e3-4434-99ca-82880fb33035",
   "metadata": {},
   "outputs": [
    {
     "name": "stdout",
     "output_type": "stream",
     "text": [
      "Creating output file that is 17537P x 29009L.\n",
      "Using internal nodata values (e.g. 0) for image /home/jovyan/seattle-micromobility/data/processed/seattle_dtm_clipped.tif.\n",
      "Copying nodata values from source /home/jovyan/seattle-micromobility/data/processed/seattle_dtm_clipped.tif to destination /tmp/seattle_dtm_meters.tif.\n",
      "...10...20...30...40...50...60...70...80...90...100 - done.d/seattle_dtm_clipped.tif [1/1] : 0\n"
     ]
    }
   ],
   "source": [
    "!gdalwarp -t_srs EPSG:2285 \\\n",
    "          -tr 3 3 \\\n",
    "          -r bilinear \\\n",
    "          -co COMPRESS=LZW \\\n",
    "          -of GTiff \\\n",
    "          \"/home/jovyan/seattle-micromobility/data/processed/seattle_dtm_clipped.tif\" \\\n",
    "          \"/tmp/seattle_dtm_meters.tif\""
   ]
  },
  {
   "cell_type": "markdown",
   "id": "3bb32ed4-b94e-409d-8816-399d6ca086cf",
   "metadata": {},
   "source": [
    "## **Downsampling the Raster to Reduce File Size**\n",
    "\n",
    "- **Processing high-resolution DTM can be slow**.\n",
    "- We **downsample it to 5m resolution** for faster analysis."
   ]
  },
  {
   "cell_type": "code",
   "execution_count": 1,
   "id": "807bef6d-6de5-4a94-9a1a-26bdca96799b",
   "metadata": {},
   "outputs": [
    {
     "name": "stdout",
     "output_type": "stream",
     "text": [
      "Creating output file that is 10522P x 17405L.\n",
      "Using internal nodata values (e.g. 0) for image /tmp/seattle_dtm_meters.tif.\n",
      "Copying nodata values from source /tmp/seattle_dtm_meters.tif to destination /home/jovyan/seattle-micromobility/data/processed/seattle_dtm_lowres.tif.\n",
      "...10...20...30...40...50...60...70...80...90...100 - done.\n"
     ]
    }
   ],
   "source": [
    "!gdalwarp -tr 5 5 -r bilinear \\\n",
    "    \"/tmp/seattle_dtm_meters.tif\" \\\n",
    "    \"/home/jovyan/seattle-micromobility/data/processed/seattle_dtm_lowres.tif\""
   ]
  },
  {
   "cell_type": "markdown",
   "id": "13ac0a01-ae3f-46a6-b6e0-b476a0ea2056",
   "metadata": {},
   "source": [
    "## **Computing the Slope Raster**\n",
    "\n",
    "1. **Load the elevation raster**.\n",
    "2. **Compute gradients** in **X and Y directions**.\n",
    "3. **Convert rise-over-run to degrees**.\n",
    "4. **Save the slope raster**."
   ]
  },
  {
   "cell_type": "code",
   "execution_count": 2,
   "id": "c5ee9aab-8c0a-43c0-b4db-2dcad74b1771",
   "metadata": {},
   "outputs": [
    {
     "name": "stdout",
     "output_type": "stream",
     "text": [
      "✅ Optimized Slope Raster Saved: /home/jovyan/seattle-micromobility/data/processed/seattle_slope.tif\n"
     ]
    }
   ],
   "source": [
    "import rasterio\n",
    "import numpy as np\n",
    "\n",
    "# File paths\n",
    "dtm_path = \"/home/jovyan/seattle-micromobility/data/processed/seattle_dtm_lowres.tif\"  # Input DTM in meters\n",
    "slope_path = \"/home/jovyan/seattle-micromobility/data/processed/seattle_slope.tif\"  # Output slope raster\n",
    "\n",
    "# Open the DTM raster\n",
    "with rasterio.open(dtm_path) as src:\n",
    "    elevation = src.read(1).astype(float)  # Read elevation as float\n",
    "    profile = src.profile  # Get metadata\n",
    "    x_res, y_res = src.res  # Get resolution in X and Y (meters)\n",
    "\n",
    "# Compute slope\n",
    "dz_dx = np.gradient(elevation, axis=1) / x_res  # Gradient in X direction\n",
    "dz_dy = np.gradient(elevation, axis=0) / y_res  # Gradient in Y direction\n",
    "slope = np.arctan(np.sqrt(dz_dx**2 + dz_dy**2)) * (180 / np.pi)  # Convert to degrees\n",
    "\n",
    "# Convert to float32 to reduce file size\n",
    "slope = slope.astype(np.float32)\n",
    "\n",
    "# Update metadata for output raster\n",
    "profile.update(dtype=rasterio.float32, nodata=0, compress='lzw')\n",
    "\n",
    "# Save the optimized slope raster\n",
    "with rasterio.open(slope_path, \"w\", **profile) as dst:\n",
    "    dst.write(slope, 1)\n",
    "\n",
    "print(f\"✅ Optimized Slope Raster Saved: {slope_path}\")"
   ]
  },
  {
   "cell_type": "code",
   "execution_count": 1,
   "id": "54027972-a181-4f8e-858a-e56311a85bce",
   "metadata": {},
   "outputs": [
    {
     "name": "stdout",
     "output_type": "stream",
     "text": [
      "Creating output file that is 5261P x 8703L.\n",
      "Using internal nodata values (e.g. 0) for image /home/jovyan/seattle-micromobility/data/processed/seattle_slope.tif.\n",
      "Copying nodata values from source /home/jovyan/seattle-micromobility/data/processed/seattle_slope.tif to destination /home/jovyan/seattle-micromobility/data/processed/seattle_slope_lowres.tif.\n",
      "...10...20...30...40...50...60...70...80...90...100 - done.d/seattle_slope.tif [1/1] : 0\n"
     ]
    }
   ],
   "source": [
    "!gdalwarp -tr 10 10 -r bilinear \\\n",
    "    \"/home/jovyan/seattle-micromobility/data/processed/seattle_slope.tif\" \\\n",
    "    \"/home/jovyan/seattle-micromobility/data/processed/seattle_slope_lowres.tif\""
   ]
  },
  {
   "cell_type": "markdown",
   "id": "c5d53183-4b66-4580-83e5-fb7b3f5c4c76",
   "metadata": {},
   "source": [
    "## **Visualizing the Slope Raster**\n",
    "\n",
    "- Helps verify that **slope is correctly calculated**.\n",
    "- Shows **steep vs. flat areas** in Seattle."
   ]
  },
  {
   "cell_type": "code",
   "execution_count": null,
   "id": "77b7dac5-1a87-4967-870c-9f60de384547",
   "metadata": {},
   "outputs": [],
   "source": [
    "import rasterio\n",
    "import matplotlib.pyplot as plt\n",
    "\n",
    "# Path to the saved slope raster\n",
    "slope_path = \"/home/jovyan/seattle-micromobility/data/processed/seattle_slope_lowres.tif\"\n",
    "\n",
    "# Open the slope raster\n",
    "with rasterio.open(slope_path) as src:\n",
    "    slope_data = src.read(1)\n",
    "\n",
    "# Plot slope raster\n",
    "plt.figure(figsize=(10, 6))\n",
    "plt.imshow(slope_data, cmap=\"Blues\", vmin=0, vmax=45)\n",
    "plt.colorbar(label=\"Slope (degrees)\")\n",
    "plt.title(\"Seattle Slope Map\")\n",
    "plt.show()"
   ]
  },
  {
   "cell_type": "code",
   "execution_count": null,
   "id": "8c3a8565-cad4-4df3-b8ec-39443eec5901",
   "metadata": {},
   "outputs": [],
   "source": []
  }
 ],
 "metadata": {
  "kernelspec": {
   "display_name": "Python 3 (ipykernel)",
   "language": "python",
   "name": "python3"
  },
  "language_info": {
   "codemirror_mode": {
    "name": "ipython",
    "version": 3
   },
   "file_extension": ".py",
   "mimetype": "text/x-python",
   "name": "python",
   "nbconvert_exporter": "python",
   "pygments_lexer": "ipython3",
   "version": "3.11.6"
  }
 },
 "nbformat": 4,
 "nbformat_minor": 5
}
